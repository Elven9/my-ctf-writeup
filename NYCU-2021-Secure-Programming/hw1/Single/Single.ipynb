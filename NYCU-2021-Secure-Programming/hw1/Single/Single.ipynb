{
 "cells": [
  {
   "cell_type": "code",
   "execution_count": 1,
   "metadata": {},
   "outputs": [],
   "source": [
    "from sage.groups.generic import bsgs\n",
    "from collections import namedtuple\n",
    "from Crypto.Util.number import inverse, bytes_to_long\n",
    "import hashlib\n",
    "import random\n",
    "\n",
    "from math import ceil, sqrt\n",
    "\n",
    "Point = namedtuple(\"Point\", \"x y\")\n",
    "O = 'INFINITY'\n",
    "\n",
    "def is_on_curve(P):\n",
    "    if P == O:\n",
    "        return True\n",
    "    else:\n",
    "        return (P.y**2 - (P.x**3 + a*P.x + b)) % p == 0 and 0 <= P.x < p and 0 <= P.y < p\n",
    "\n",
    "def point_inverse(P):\n",
    "    if P == O:\n",
    "        return P\n",
    "    return Point(P.x, -P.y % p)\n",
    "\n",
    "def point_addition(P, Q):\n",
    "    if P == O:\n",
    "        return Q\n",
    "    elif Q == O:\n",
    "        return P\n",
    "    elif Q == point_inverse(P):\n",
    "        return O\n",
    "    else:\n",
    "        if P == Q:\n",
    "            s = (3*P.x**2 + a)*inverse(2*P.y, p) % p\n",
    "        else:\n",
    "            s = (Q.y - P.y) * inverse((Q.x - P.x), p) % p\n",
    "    Rx = (s**2 - P.x - Q.x) % p\n",
    "    Ry = (s*(P.x - Rx) - P.y) % p\n",
    "    R = Point(Rx, Ry)\n",
    "    assert is_on_curve(R)\n",
    "    return R\n",
    "\n",
    "def point_multiply(P, d):\n",
    "    bits = bin(d)[2:]\n",
    "    Q = O\n",
    "    for bit in bits:\n",
    "        Q = point_addition(Q, Q)\n",
    "        if bit == '1':\n",
    "            Q = point_addition(Q, P)\n",
    "    assert is_on_curve(Q)\n",
    "    return Q\n",
    "\n",
    "a = 9605275265879631008726467740646537125692167794341640822702313056611938432994\n",
    "b = 7839838607707494463758049830515369383778931948114955676985180993569200375480\n",
    "\n",
    "p = 9631668579539701602760432524602953084395033948174466686285759025897298205383\n",
    "gx = 5664314881801362353989790109530444623032842167510027140490832957430741393367\n",
    "gy = 3735011281298930501441332016708219762942193860515094934964869027614672869355\n",
    "G = Point(gx, gy)\n",
    "\n",
    "A = Point(x=3829488417236560785272607696709023677752676859512573328792921651640651429215, y=7947434117984861166834877190207950006170738405923358235762824894524937052000)\n",
    "B = Point(x=9587224500151531060103223864145463144550060225196219072827570145340119297428, y=2527809441042103520997737454058469252175392602635610992457770946515371529908)\n",
    "enc = \"1536c5b019bd24ddf9fc50de28828f727190ff121b709a6c63c4f823ec31780ad30d219f07a8c419c7afcdce900b6e89b37b18b6daede22e5445eb98f3ca2e40\""
   ]
  },
  {
   "cell_type": "code",
   "execution_count": 2,
   "metadata": {},
   "outputs": [
    {
     "name": "stdout",
     "output_type": "stream",
     "text": [
      "9605275265879631008726467740646537125692167794341640822702313056611938432994\n",
      "7839838607707494463758049830515369383778931948114955676985180993569200375480\n"
     ]
    }
   ],
   "source": [
    "# Calculate a, b\n",
    "a = (((A.y^2-A.x^3)-(B.y^2-B.x^3)) / (A.x-B.x)) % p\n",
    "print(a)\n",
    "b = (A.y^2-A.x^3-a*A.x)%p\n",
    "print(b)"
   ]
  },
  {
   "cell_type": "code",
   "execution_count": 3,
   "metadata": {},
   "outputs": [
    {
     "data": {
      "text/plain": [
       "<class 'str'>"
      ]
     },
     "execution_count": 3,
     "metadata": {},
     "output_type": "execute_result"
    }
   ],
   "source": [
    "type(O)"
   ]
  },
  {
   "cell_type": "code",
   "execution_count": 4,
   "metadata": {},
   "outputs": [
    {
     "name": "stdout",
     "output_type": "stream",
     "text": [
      "2 * 2329468847 * 2414146711 * 2484441769 * 2546315801 * 2988745687 * 3048801089 * 3618313243 * 4105685383\n"
     ]
    }
   ],
   "source": [
    "# EllipticCurve\n",
    "# E = EllipticCurve(GF(p), [a,b])\n",
    "fs = factor(p-1)\n",
    "print(fs)\n",
    "n = p-1"
   ]
  },
  {
   "cell_type": "code",
   "execution_count": 5,
   "metadata": {},
   "outputs": [],
   "source": [
    "def my_bsgs(a, b, n):\n",
    "    m = ceil(sqrt(n))\n",
    "    \n",
    "    table = {}\n",
    "    \n",
    "    prevPoint = O\n",
    "    # Compute Table of J*Gi\n",
    "    for j in range(0, m):\n",
    "        table[prevPoint] = j\n",
    "        prevPoint = point_addition(prevPoint, a)\n",
    "            \n",
    "    gama = b\n",
    "    constant_m_alpha = point_inverse(point_multiply(a, m))\n",
    "\n",
    "    for i in range(0, m):\n",
    "        # Search\n",
    "        if gama in table:\n",
    "            print(\"found: \" + str(i*m+table[gama]))\n",
    "            return i*m+table[gama]\n",
    "#         tmp = point_addition(b, point_inverse(gama))\n",
    "        gama = point_addition(gama, constant_m_alpha)\n",
    "        \n",
    "    print(\"Solution Not Found\")\n",
    "    return None\n",
    "    "
   ]
  },
  {
   "cell_type": "code",
   "execution_count": 6,
   "metadata": {},
   "outputs": [
    {
     "name": "stdout",
     "output_type": "stream",
     "text": [
      "found: 1\n",
      "found: 1109856587\n",
      "found: 1432808300\n",
      "found: 2086362528\n",
      "found: 1831216898\n",
      "found: 2399145070\n",
      "found: 3043431419\n",
      "found: 1439500374\n",
      "found: 3507738586\n"
     ]
    }
   ],
   "source": [
    "xis = []\n",
    "\n",
    "for fac in fs:\n",
    "    gi = point_multiply(G, n//fac[0])\n",
    "    pi = point_multiply(A, n//fac[0])\n",
    "    \n",
    "#     di = bsgs(a=gi, b=pi, bounds=(0, fac[0]), operation='other', identity=O, inverse=point_inverse, op=point_addition)\n",
    "    di = my_bsgs(gi, pi, fac[0])\n",
    "#     di = leo_bsgs(gi, pi, fac[0])\n",
    "    xis.append(di)"
   ]
  },
  {
   "cell_type": "code",
   "execution_count": 7,
   "metadata": {},
   "outputs": [
    {
     "name": "stdout",
     "output_type": "stream",
     "text": [
      "[1, 1109856587, 1432808300, 2086362528, 1831216898, 2399145070, 3043431419, 1439500374, 3507738586]\n",
      "[2, 2329468847, 2414146711, 2484441769, 2546315801, 2988745687, 3048801089, 3618313243, 4105685383]\n",
      "6348321811382313695959733425907835828187085177602967426242446915729082292743\n"
     ]
    }
   ],
   "source": [
    "print(xis)\n",
    "print([fac[0] for fac in fs])\n",
    "da = crt(xis, [fac[0] for fac in fs])\n",
    "print(da)"
   ]
  },
  {
   "cell_type": "code",
   "execution_count": 8,
   "metadata": {},
   "outputs": [
    {
     "name": "stdout",
     "output_type": "stream",
     "text": [
      "flag = b'FLAG{adbffefdb46a99fad0042dd3c10fdc414fadd25c}\\x00\\x00\\x00\\x00\\x00\\x00\\x00\\x00\\x00\\x00\\x00\\x00\\x00\\x00\\x00\\x00\\x00\\x00'\n"
     ]
    }
   ],
   "source": [
    "encode_flag = bytes.fromhex(enc)\n",
    "k = point_multiply(B, da).x\n",
    "k = hashlib.sha512(str(k).encode('ascii')).digest()\n",
    "flag = bytes(ci ^^ ki for ci, ki in zip(encode_flag, k))\n",
    "print('flag =', flag)"
   ]
  },
  {
   "cell_type": "code",
   "execution_count": null,
   "metadata": {},
   "outputs": [],
   "source": []
  }
 ],
 "metadata": {
  "kernelspec": {
   "display_name": "SageMath 9.4",
   "language": "sage",
   "name": "sagemath"
  },
  "language_info": {
   "codemirror_mode": {
    "name": "ipython",
    "version": 3
   },
   "file_extension": ".py",
   "mimetype": "text/x-python",
   "name": "python",
   "nbconvert_exporter": "python",
   "pygments_lexer": "ipython3",
   "version": "3.9.5"
  }
 },
 "nbformat": 4,
 "nbformat_minor": 4
}
