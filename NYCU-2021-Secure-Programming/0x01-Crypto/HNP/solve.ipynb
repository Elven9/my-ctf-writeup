{
 "cells": [
  {
   "cell_type": "code",
   "execution_count": 1,
   "metadata": {},
   "outputs": [],
   "source": [
    "# 我有什麼東西\n",
    "#\n",
    "# H -> Choosen Plain Text (After SHA256 Hash)\n",
    "# P -> Public Key Point\n",
    "# s ->\n",
    "# r ->\n",
    "# Curve -> Order, Generator\n",
    "\n",
    "# 我沒有什麼東西，也是我需要的\n",
    "#\n",
    "# k -> random choosen ephemeral key\n",
    "# d -> Private Key\n",
    "\n",
    "\n",
    "# 兩個用相同的 K 處理的 sign\n",
    "# next k = 1337 * k % n\n",
    "# \n",
    "# k * s1 = H1 + d * r1\n",
    "# 1337 * k * s2 = H2 + d * r2\n",
    "\n",
    "# 求 d\n",
    "# s1 / (1337 * s2) = (H1+dr1) / (H2 + dr2)\n",
    "# s1h2 + s1dr2 = 1337 * s2 * h1 + 1337 * s2 * dr1\n",
    "# d * (s1*r2 - 1337 * s2 * r1) = (1337 * s2 * h1 - s1 * h2)\n",
    "# d = (1337 * s2 * h1 - s1 * h2) / (s1*r2 - 1337 * s2 * r1)\n",
    "\n",
    "\n",
    "# 求 k\n",
    "# (s1 + s2 * 1337) * k = (h1 + h2 + d * (r1 + r2))\n",
    "# k = ((h1 + h2 + d * (r1 + r2)) / (s1 + s2 * 1337)) % n\n",
    "\n",
    "from hashlib import sha256\n",
    "from Crypto.Util.number import *\n",
    "from ecdsa import SECP256k1\n",
    "from ecdsa.ecdsa import Public_key, Private_key, Signature"
   ]
  },
  {
   "cell_type": "code",
   "execution_count": 2,
   "metadata": {},
   "outputs": [
    {
     "name": "stdout",
     "output_type": "stream",
     "text": [
      "115792089237316195423570985008687907852837564279074904382605163141518161494337\n"
     ]
    }
   ],
   "source": [
    "E = SECP256k1\n",
    "G, n = E.generator, E.order\n",
    "\n",
    "# d_secret = 51120868852714488931462822075959319938299778528804116928349334049756424421440\n",
    "# k_secret = 58974702191263034132292568163358265173289218271967160450101311513815033052903\n",
    "\n",
    "P = (22465604392732193562248272036654137918288868498590628233540832946465953233061, 30514115634954872094220706109945678634473695706090147756418034112209320955354)\n",
    "print(E.order)"
   ]
  },
  {
   "cell_type": "code",
   "execution_count": 3,
   "metadata": {},
   "outputs": [],
   "source": [
    "h1 = bytes_to_long(sha256(\"Apple\".encode()).digest())\n",
    "r1 = 39398783931913033535258806144741354245565124943941683562544396967327945284021\n",
    "s1 = 85301382690192078817497802066856568339961018464464943699120358524109959705919\n",
    "\n",
    "h2 =  bytes_to_long(sha256(\"Banana\".encode()).digest())\n",
    "r2 = 65230839167132629779627279108501807054651294576718609612688823149314970433124\n",
    "s2 = 76764338813047634714685498628314078997418435755328537416923347856033767931466"
   ]
  },
  {
   "cell_type": "code",
   "execution_count": 4,
   "metadata": {},
   "outputs": [
    {
     "name": "stdout",
     "output_type": "stream",
     "text": [
      "30141274290293325754432884361209192981836357381066153201407615969251236274564\n"
     ]
    }
   ],
   "source": [
    "d = ((1337 * s2 * h1 - s1 * h2) * inverse(s1*r2 - 1337 * s2 * r1, n)) % n\n",
    "print(d)"
   ]
  },
  {
   "cell_type": "code",
   "execution_count": 5,
   "metadata": {},
   "outputs": [
    {
     "name": "stdout",
     "output_type": "stream",
     "text": [
      "42813695536167870210757036099632196244320802191608797314124838768723352937747\n"
     ]
    }
   ],
   "source": [
    "k = ((h1 + h2 + d * (r1 + r2)) / (s1 + s2 * 1337) // 1337) % n\n",
    "print(k)"
   ]
  },
  {
   "cell_type": "code",
   "execution_count": 6,
   "metadata": {},
   "outputs": [],
   "source": [
    "pubkey = Public_key(G, d*G)\n",
    "prikey = Private_key(pubkey, d)"
   ]
  },
  {
   "cell_type": "code",
   "execution_count": 7,
   "metadata": {},
   "outputs": [
    {
     "name": "stdout",
     "output_type": "stream",
     "text": [
      "sig = (39398783931913033535258806144741354245565124943941683562544396967327945284021, 67013505035314159753153009306107395977703788952202298896426948462101946861709)\n"
     ]
    }
   ],
   "source": [
    "h = sha256(\"Kuruwa\".encode()).digest()\n",
    "k = k * 1337 % n\n",
    "sig = prikey.sign(bytes_to_long(h), k)\n",
    "print(f'sig = ({sig.r}, {sig.s})')"
   ]
  },
  {
   "cell_type": "code",
   "execution_count": null,
   "metadata": {},
   "outputs": [],
   "source": [
    "# FLAG{fcf8ab2bc7b42bbd00e5be2b3d311ec6e8a89526}"
   ]
  }
 ],
 "metadata": {
  "kernelspec": {
   "display_name": "SageMath 9.4",
   "language": "sage",
   "name": "sagemath"
  },
  "language_info": {
   "codemirror_mode": {
    "name": "ipython",
    "version": 3
   },
   "file_extension": ".py",
   "mimetype": "text/x-python",
   "name": "python",
   "nbconvert_exporter": "python",
   "pygments_lexer": "ipython3",
   "version": "3.9.5"
  }
 },
 "nbformat": 4,
 "nbformat_minor": 5
}
