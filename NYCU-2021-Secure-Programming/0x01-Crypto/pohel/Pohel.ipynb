{
 "cells": [
  {
   "cell_type": "code",
   "execution_count": 1,
   "metadata": {},
   "outputs": [],
   "source": [
    "from sage.groups.generic import bsgs\n",
    "import random\n",
    "import hashlib\n",
    "\n",
    "g = 2\n",
    "n = 22975024372641088191783192950030840455936651367831116706532074148973552639475113523713622342956112126457710740633725263638116108451282253328304547\n",
    "c = 3391562491073162069780474526700107230909189849786338234577033763865425503028855096698198069367193995675035849507973902223745251492606324520756666\n",
    "flag = \"c401549a04656914f9288164f6298ccc09771d8805db7248e3162b86237cefd2621df96509d8d9f32dbd2f56c6c41414971b990f31f80ced0cfe4eac89f55a93\""
   ]
  },
  {
   "cell_type": "code",
   "execution_count": 5,
   "metadata": {},
   "outputs": [
    {
     "name": "stdout",
     "output_type": "stream",
     "text": [
      "(2, 1)\n",
      "(40420777, 1)\n",
      "(69078979, 1)\n",
      "(189543349, 1)\n",
      "(446616229, 1)\n",
      "(561588961, 1)\n",
      "(1343925763, 1)\n",
      "(1945316203, 1)\n",
      "(2067671399, 1)\n",
      "(2865468883, 1)\n",
      "(2888438503, 1)\n",
      "(2899749631, 1)\n",
      "(2932105903, 1)\n",
      "(3274070801, 1)\n",
      "(4023368071, 1)\n",
      "(4041418553, 1)\n",
      "(4273228951, 1)\n",
      "[2, 40420777, 69078979, 189543349, 446616229, 561588961, 1343925763, 1945316203, 2067671399, 2865468883, 2888438503, 2899749631, 2932105903, 3274070801, 4023368071, 4041418553, 4273228951]\n"
     ]
    }
   ],
   "source": [
    "f = factor(n-1)\n",
    "for i in range(len(f)):\n",
    "    print(f[i])\n",
    "fs = [fac[0] for fac in list(f)]\n",
    "print(fs)"
   ]
  },
  {
   "cell_type": "code",
   "execution_count": 3,
   "metadata": {},
   "outputs": [
    {
     "name": "stdout",
     "output_type": "stream",
     "text": [
      "5715730984776927122596830589662518107985433313538424944515197264212496003944524476815735435643637740104215871453370771557423444072451953725982027\n"
     ]
    }
   ],
   "source": [
    "xis = []\n",
    "\n",
    "for fac in fs:\n",
    "    gi = pow(g, (n-1)//fac, n)\n",
    "    hi = pow(c, (n-1)//fac, n)\n",
    "    \n",
    "    xi = bsgs(gi, hi, (0, fac))\n",
    "    xis.append(xi)\n",
    "\n",
    "k = crt(xis, fs)\n",
    "print(k)"
   ]
  },
  {
   "cell_type": "code",
   "execution_count": 4,
   "metadata": {},
   "outputs": [
    {
     "name": "stdout",
     "output_type": "stream",
     "text": [
      "b'\\xc4\\x01T\\x9a\\x04ei\\x14\\xf9(\\x81d\\xf6)\\x8c\\xcc\\tw\\x1d\\x88\\x05\\xdbrH\\xe3\\x16+\\x86#|\\xef\\xd2b\\x1d\\xf9e\\t\\xd8\\xd9\\xf3-\\xbd/V\\xc6\\xc4\\x14\\x14\\x97\\x1b\\x99\\x0f1\\xf8\\x0c\\xed\\x0c\\xfeN\\xac\\x89\\xf5Z\\x93'\n"
     ]
    },
    {
     "data": {
      "text/plain": [
       "b'FLAG{0e8dc88cd3dc6717bf1e98126ccd295e559f9a03}\\n\\x00\\x00\\x00\\x00\\x00\\x00\\x00\\x00\\x00\\x00\\x00\\x00\\x00\\x00\\x00\\x00\\x00'"
      ]
     },
     "execution_count": 4,
     "metadata": {},
     "output_type": "execute_result"
    }
   ],
   "source": [
    "k_key = hashlib.sha512(str(k).encode('ascii')).digest()\n",
    "flag_enc = bytes.fromhex(flag)\n",
    "print(flag_enc)\n",
    "bytes(ci ^^ ki for ci, ki in zip(flag_enc, k_key))"
   ]
  },
  {
   "cell_type": "code",
   "execution_count": null,
   "metadata": {},
   "outputs": [],
   "source": []
  }
 ],
 "metadata": {
  "kernelspec": {
   "display_name": "SageMath 9.4",
   "language": "sage",
   "name": "sagemath"
  },
  "language_info": {
   "codemirror_mode": {
    "name": "ipython",
    "version": 3
   },
   "file_extension": ".py",
   "mimetype": "text/x-python",
   "name": "python",
   "nbconvert_exporter": "python",
   "pygments_lexer": "ipython3",
   "version": "3.9.5"
  }
 },
 "nbformat": 4,
 "nbformat_minor": 4
}
