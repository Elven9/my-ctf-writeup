{
 "cells": [
  {
   "cell_type": "code",
   "execution_count": 13,
   "metadata": {},
   "outputs": [],
   "source": [
    "from Crypto.Util.number import getPrime, inverse, bytes_to_long, long_to_bytes\n",
    "import random\n",
    "import math\n",
    "\n",
    "q = 13198797472876287864902532913662133207745076880722933181850739256048248640200371699901863528719230289037546070463557840514069399741170318469168055220829673\n",
    "h = 10087945478419986810683355485899283062694316065852893531674190136106148631015543635096193003039720583579764280499310840409413968369520060566979727182282589\n",
    "enc = 8989708726503367404715754689730782388959095528339234074784589050444870239608140046626770182336762701788963731736424741343914003600890982230995409715448250"
   ]
  },
  {
   "cell_type": "code",
   "execution_count": 8,
   "metadata": {},
   "outputs": [
    {
     "name": "stdout",
     "output_type": "stream",
     "text": [
      "(30165472345377893199996073216882484865326100372385032912649079590116386983603, 76800238348919971880137962056366565547536930174141631382703859430357272008755)\n"
     ]
    }
   ],
   "source": [
    "v1 = vector((1, h))\n",
    "v2 = vector((0, q))\n",
    "\n",
    "while True:\n",
    "    if v2.norm() < v1.norm():\n",
    "        v1, v2 = v2, v1\n",
    "    m = round(v1*v2 / (v1*v1))\n",
    "    \n",
    "    if m == 0:\n",
    "        break\n",
    "    \n",
    "    v2 = v2 - m * v1\n",
    "    \n",
    "print(v1)"
   ]
  },
  {
   "cell_type": "code",
   "execution_count": 9,
   "metadata": {},
   "outputs": [
    {
     "name": "stdout",
     "output_type": "stream",
     "text": [
      "30165472345377893199996073216882484865326100372385032912649079590116386983603 76800238348919971880137962056366565547536930174141631382703859430357272008755\n"
     ]
    }
   ],
   "source": [
    "f = v1[0]\n",
    "g = v1[1]\n",
    "print(f, g)"
   ]
  },
  {
   "cell_type": "code",
   "execution_count": 10,
   "metadata": {},
   "outputs": [],
   "source": [
    "def decrypt(q, h, f, g, e):\n",
    "    a = (f*e) % q\n",
    "    m = (a*inverse(f, g)) % g\n",
    "    return m"
   ]
  },
  {
   "cell_type": "code",
   "execution_count": 11,
   "metadata": {},
   "outputs": [
    {
     "data": {
      "text/plain": [
       "112964323471926487768555413595123726600335318347240439794394493"
      ]
     },
     "execution_count": 11,
     "metadata": {},
     "output_type": "execute_result"
    }
   ],
   "source": [
    "decrypt(q, h, f, g, enc)"
   ]
  },
  {
   "cell_type": "code",
   "execution_count": 14,
   "metadata": {},
   "outputs": [
    {
     "data": {
      "text/plain": [
       "b'FLAG{4ac3d34ee99b3fbd5c0e}'"
      ]
     },
     "execution_count": 14,
     "metadata": {},
     "output_type": "execute_result"
    }
   ],
   "source": [
    "long_to_bytes(112964323471926487768555413595123726600335318347240439794394493)"
   ]
  },
  {
   "cell_type": "code",
   "execution_count": null,
   "metadata": {},
   "outputs": [],
   "source": []
  }
 ],
 "metadata": {
  "kernelspec": {
   "display_name": "SageMath 9.4",
   "language": "sage",
   "name": "sagemath"
  },
  "language_info": {
   "codemirror_mode": {
    "name": "ipython",
    "version": 3
   },
   "file_extension": ".py",
   "mimetype": "text/x-python",
   "name": "python",
   "nbconvert_exporter": "python",
   "pygments_lexer": "ipython3",
   "version": "3.9.5"
  }
 },
 "nbformat": 4,
 "nbformat_minor": 4
}
