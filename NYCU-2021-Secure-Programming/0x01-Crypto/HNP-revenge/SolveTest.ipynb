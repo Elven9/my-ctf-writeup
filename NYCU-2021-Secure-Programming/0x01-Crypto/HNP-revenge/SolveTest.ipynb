{
 "cells": [
  {
   "cell_type": "code",
   "execution_count": 1,
   "metadata": {},
   "outputs": [
    {
     "name": "stdout",
     "output_type": "stream",
     "text": [
      "33717798343342530938757884144696676884309003060150418710908329730043516527662\n",
      "P = (91798623758206733223317495906355959263149226476252400210291726984941720890246, 11219465136598658418271245518928073074098395723828802160539163549684279529788)\n"
     ]
    }
   ],
   "source": [
    "#!/usr/bin/env python3\n",
    "from random import randint\n",
    "from Crypto.Util.number import *\n",
    "from hashlib import sha256, md5\n",
    "from ecdsa import SECP256k1\n",
    "from ecdsa.ecdsa import Public_key, Private_key, Signature\n",
    "\n",
    "FLAG = \"flag\"\n",
    "\n",
    "E = SECP256k1\n",
    "G, n = E.generator, E.order\n",
    "\n",
    "d = randint(1, n)\n",
    "print(d)\n",
    "\n",
    "pubkey = Public_key(G, d*G)\n",
    "prikey = Private_key(pubkey, d)\n",
    "print(f'P = ({pubkey.point.x()}, {pubkey.point.y()})')"
   ]
  },
  {
   "cell_type": "code",
   "execution_count": 2,
   "metadata": {},
   "outputs": [],
   "source": [
    "def getPair(msg):\n",
    "    h = sha256(msg.encode()).digest()\n",
    "    k = int(md5(b'secret').hexdigest() + md5(long_to_bytes(prikey.secret_multiplier) + h).hexdigest(), 16)\n",
    "    print(k)\n",
    "    sig = prikey.sign(bytes_to_long(h), k)\n",
    "    return (bytes_to_long(h), k-(int(md5(b'secret').hexdigest(), 16) << 128), sig.r, sig.s)"
   ]
  },
  {
   "cell_type": "code",
   "execution_count": 3,
   "metadata": {},
   "outputs": [
    {
     "data": {
      "text/plain": [
       "'5ebe2294ecd0e0f08eab7690d2a6ee69'"
      ]
     },
     "execution_count": 3,
     "metadata": {},
     "output_type": "execute_result"
    }
   ],
   "source": [
    "md5(b'secret').hexdigest()"
   ]
  },
  {
   "cell_type": "code",
   "execution_count": 4,
   "metadata": {},
   "outputs": [],
   "source": [
    "h1 = sha256(\"A\".encode()).digest()\n",
    "h2 = sha256(\"B\".encode()).digest()"
   ]
  },
  {
   "cell_type": "code",
   "execution_count": 5,
   "metadata": {},
   "outputs": [
    {
     "name": "stdout",
     "output_type": "stream",
     "text": [
      "474574e658d31f988242f0cbb9a085a1\n",
      "42853347383522459682061542032602724326641508808746299105300629223919363065249\n",
      "42853347383522459682061542032602724326806465361686063242736592014720884595188\n"
     ]
    }
   ],
   "source": [
    "h1k = int(md5(b'secret').hexdigest() + md5(long_to_bytes(prikey.secret_multiplier) + h1).hexdigest(), 16)\n",
    "h2k = int(md5(b'secret').hexdigest() + md5(long_to_bytes(prikey.secret_multiplier) + h2).hexdigest(), 16)\n",
    "print(md5(long_to_bytes(prikey.secret_multiplier) + h1).hexdigest())\n",
    "print(h1k)\n",
    "print(h2k)"
   ]
  },
  {
   "cell_type": "code",
   "execution_count": 6,
   "metadata": {},
   "outputs": [
    {
     "data": {
      "text/plain": [
       "42853347383522459682061542032602724326617070171292580522407351922876257774749"
      ]
     },
     "execution_count": 6,
     "metadata": {},
     "output_type": "execute_result"
    }
   ],
   "source": [
    "42853347383522459682061542032602724326711805998486029767783327103096810254910 - int(md5(long_to_bytes(prikey.secret_multiplier) + h1).hexdigest(), 16)"
   ]
  },
  {
   "cell_type": "code",
   "execution_count": 7,
   "metadata": {},
   "outputs": [
    {
     "data": {
      "text/plain": [
       "42853347383522459682061542032602724326412151318683628304738016110233698847711"
      ]
     },
     "execution_count": 7,
     "metadata": {},
     "output_type": "execute_result"
    }
   ],
   "source": [
    "42853347383522459682061542032602724326671843698816841687549954081255772857811 - int(md5(long_to_bytes(prikey.secret_multiplier) + h2).hexdigest(), 16)"
   ]
  },
  {
   "cell_type": "code",
   "execution_count": 8,
   "metadata": {},
   "outputs": [
    {
     "name": "stdout",
     "output_type": "stream",
     "text": [
      "42853347383522459682061542032602724326546772981552849859924654043698810585088\n",
      "42853347383522459682061542032602724326546772981552849859924654043698810585088\n",
      "94735827193449245375975180220552480161\n",
      "259692380133213382811937971022074010100\n",
      "127\n"
     ]
    }
   ],
   "source": [
    "baseK = 42853347383522459682061542032602724326546772981552849859924654043698810585088\n",
    "print(baseK)\n",
    "print(int(md5(b'secret').hexdigest(), 16) << 128)\n",
    "\n",
    "print(h1k - baseK)\n",
    "print(h2k - baseK)\n",
    "print(len(bin(h1k-baseK)[2:]))"
   ]
  },
  {
   "cell_type": "code",
   "execution_count": 17,
   "metadata": {},
   "outputs": [
    {
     "data": {
      "text/plain": [
       "(38720307207599648528211736436817930416103789439318178660273974026535871438845,\n",
       " 16357817616048414572510173075729217041394456493509961448505749657426247777843,\n",
       " 51748112016471053220430514369599663961770787986932028467346228728169657624151,\n",
       " 101089167133868482642301738280228084727114034694682239136375376240207457290844,\n",
       " 52850301281162051958004179951224632024102789840174794535530526838028580351029,\n",
       " 33951670704847104798562491835349038883273418841901845398791994869986677301265)"
      ]
     },
     "execution_count": 17,
     "metadata": {},
     "output_type": "execute_result"
    }
   ],
   "source": [
    "# Solve\n",
    "# r, s\n",
    "\n",
    "# h1, _k1, r1, s1 = getPair(\"A\")\n",
    "# h2, _k2, r2, s2 = getPair(\"B\")\n",
    "\n",
    "h1 = bytes_to_long(sha256(\"A\".encode()).digest())\n",
    "r1 = 16357817616048414572510173075729217041394456493509961448505749657426247777843\n",
    "s1 = 51748112016471053220430514369599663961770787986932028467346228728169657624151\n",
    "\n",
    "h2 = bytes_to_long(sha256(\"B\".encode()).digest())\n",
    "r2 = 52850301281162051958004179951224632024102789840174794535530526838028580351029\n",
    "s2 = 33951670704847104798562491835349038883273418841901845398791994869986677301265\n",
    "\n",
    "t = (-1* inverse(s1, n)*s2*r1*inverse(r2, n)) %n\n",
    "u = (inverse(s1, n)*r1*h2*inverse(r2, n) - inverse(s1, n) * h1 + (t+1)*baseK) %n\n",
    "K = 2^128\n",
    "\n",
    "# h1, _k1, r1, s1, h2, _k2, r2, s2\n",
    "h1, r1, s1, h2, r2, s2"
   ]
  },
  {
   "cell_type": "code",
   "execution_count": 18,
   "metadata": {},
   "outputs": [
    {
     "name": "stdout",
     "output_type": "stream",
     "text": [
      "340282366920938463463374607431768211456\n"
     ]
    },
    {
     "data": {
      "text/plain": [
       "[ 187378089026535655899655420624973157486  -39675609313070595445567472931648011033                                        0]\n",
       "[ -57629297996773195343421478361731524043  101001157603293355524690901802694853988  340282366920938463463374607431768211456]\n",
       "[-137064426525898910338553240005831421117 -588937453536132064209118821432104827466                                        0]"
      ]
     },
     "execution_count": 18,
     "metadata": {},
     "output_type": "execute_result"
    }
   ],
   "source": [
    "print(K)\n",
    "B = matrix(ZZ, [[n, 0, 0], [t, 1, 0], [u, 0, K]])\n",
    "B.LLL()"
   ]
  },
  {
   "cell_type": "code",
   "execution_count": 19,
   "metadata": {},
   "outputs": [
    {
     "name": "stdout",
     "output_type": "stream",
     "text": [
      "19972761981093915324939593305051321935639939008326997602327308879666237417259\n",
      "19972761981093915324939593305051321935639939008326997602327308879666237417259\n"
     ]
    }
   ],
   "source": [
    "dn = ((s1 * (57629297996773195343421478361731524043 + baseK)  - h1) * inverse(r1, n)) %n\n",
    "print(dn)\n",
    "\n",
    "d2 = ((s2 * (101001157603293355524690901802694853988 + baseK)  - h2) * inverse(r2, n)) %n\n",
    "print(d2)"
   ]
  },
  {
   "cell_type": "code",
   "execution_count": 23,
   "metadata": {},
   "outputs": [
    {
     "name": "stdout",
     "output_type": "stream",
     "text": [
      "86686489963079473003923631694691783383916659017731398910009146211606071635471\n",
      "P = (92145270807322215407853536224656612777575935234901879683701560206757423236709, 49450944643101082506504531140571806838183271192493825100681232498822262677240)\n",
      "(52624182320304646480692235524456092742639394953852302530179208738281723858475, 23266584372881447466615630199376157791356863981137456151023603638440639879421)\n"
     ]
    },
    {
     "data": {
      "text/plain": [
       "False"
      ]
     },
     "execution_count": 23,
     "metadata": {},
     "output_type": "execute_result"
    }
   ],
   "source": [
    "print(dn)\n",
    "dn = 37913751414115536947901157134231041236627920528277356985630767768138612399437\n",
    "pubkey = Public_key(G, dn*G)\n",
    "prikey = Private_key(pubkey, d)\n",
    "print(f'P = ({pubkey.point.x()}, {pubkey.point.y()})')\n",
    "\n",
    "h = sha256(\"Kuruwa\".encode()).digest()\n",
    "k = int(md5(b'secret').hexdigest() + md5(long_to_bytes(prikey.secret_multiplier) + h).hexdigest(), 16)\n",
    "sig = prikey.sign(bytes_to_long(h), k)\n",
    "print(f'({sig.r}, {sig.s})')\n",
    "\n",
    "hn = bytes_to_long(sha256(\"Kuruwa\".encode()).digest())\n",
    "pubkey.verifies(hn, Signature(int(52624182320304646480692235524456092742639394953852302530179208738281723858475), int(23266584372881447466615630199376157791356863981137456151023603638440639879421)))"
   ]
  },
  {
   "cell_type": "code",
   "execution_count": null,
   "metadata": {},
   "outputs": [],
   "source": []
  },
  {
   "cell_type": "code",
   "execution_count": null,
   "metadata": {},
   "outputs": [],
   "source": []
  }
 ],
 "metadata": {
  "kernelspec": {
   "display_name": "SageMath 9.4",
   "language": "sage",
   "name": "sagemath"
  },
  "language_info": {
   "codemirror_mode": {
    "name": "ipython",
    "version": 3
   },
   "file_extension": ".py",
   "mimetype": "text/x-python",
   "name": "python",
   "nbconvert_exporter": "python",
   "pygments_lexer": "ipython3",
   "version": "3.9.5"
  }
 },
 "nbformat": 4,
 "nbformat_minor": 5
}
