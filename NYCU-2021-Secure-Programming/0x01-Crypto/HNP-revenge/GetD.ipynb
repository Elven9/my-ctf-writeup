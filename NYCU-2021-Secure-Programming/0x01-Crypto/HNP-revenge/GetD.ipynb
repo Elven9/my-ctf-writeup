{
 "cells": [
  {
   "cell_type": "code",
   "execution_count": 1,
   "metadata": {},
   "outputs": [],
   "source": [
    "from random import randint\n",
    "from Crypto.Util.number import *\n",
    "from hashlib import sha256, md5\n",
    "from ecdsa import SECP256k1\n",
    "from ecdsa.ecdsa import Public_key, Private_key, Signature\n",
    "\n",
    "E = SECP256k1\n",
    "G, n = E.generator, E.order\n",
    "baseK = int(md5(b'secret').hexdigest(), 16) << 128"
   ]
  },
  {
   "cell_type": "code",
   "execution_count": 2,
   "metadata": {},
   "outputs": [
    {
     "name": "stdout",
     "output_type": "stream",
     "text": [
      "170141183460469231731687303715884105728\n"
     ]
    },
    {
     "data": {
      "text/plain": [
       "[ 118896613776238449478129936428974463840  -32806342291851023802586340638786914878  170141183460469231731687303715884105728]\n",
       "[-196032320073347428542397021099225337843   96291860774951207159831053703429490718  170141183460469231731687303715884105728]\n",
       "[-221830141883562033496969161916984809373 -276742487483606481063492584316071339063                                        0]"
      ]
     },
     "execution_count": 2,
     "metadata": {},
     "output_type": "execute_result"
    }
   ],
   "source": [
    "# Solve\n",
    "# r, s\n",
    "\n",
    "h1 = bytes_to_long(sha256(\"A\".encode()).digest())\n",
    "r1 = 58084863080992072580334022005567931021154043643259552401385782172570240816523\n",
    "s1 = 107712904646841307549216306134569074827075078269914988676888071413702894680658\n",
    "\n",
    "h2 = bytes_to_long(sha256(\"B\".encode()).digest())\n",
    "r2 = 100750964988822020802724921911452399593227921044610135806466924123392451666453\n",
    "s2 = 100048223890738129273755755203911968532962608890184062887455576356224860362848\n",
    "\n",
    "t = (-1* inverse(s1, n)*s2*r1*inverse(r2, n)) %n\n",
    "u = (inverse(s1, n)*r1*h2*inverse(r2, n) - inverse(s1, n) * h1 + (t+1)*baseK) %n\n",
    "K = 2^127\n",
    "\n",
    "print(K)\n",
    "B = matrix(ZZ, [[n, 0, 0], [t, 1, 0], [u, 0, K]])\n",
    "B.LLL()"
   ]
  },
  {
   "cell_type": "code",
   "execution_count": 5,
   "metadata": {},
   "outputs": [
    {
     "name": "stdout",
     "output_type": "stream",
     "text": [
      "105228346465649343550315876720427581326892142235257410156707131772573340314147\n"
     ]
    }
   ],
   "source": [
    "dn = ((s1 * (196032320073347428542397021099225337843 + baseK)  - h1) * inverse(r1, n)) %n\n",
    "print(dn)"
   ]
  },
  {
   "cell_type": "code",
   "execution_count": 6,
   "metadata": {},
   "outputs": [
    {
     "name": "stdout",
     "output_type": "stream",
     "text": [
      "105228346465649343550315876720427581326892142235257410156707131772573340314147\n"
     ]
    }
   ],
   "source": [
    "d2 = ((s2 * (96291860774951207159831053703429490718 + baseK)  - h2) * inverse(r2, n)) %n\n",
    "print(d2)"
   ]
  },
  {
   "cell_type": "code",
   "execution_count": null,
   "metadata": {},
   "outputs": [],
   "source": []
  }
 ],
 "metadata": {
  "kernelspec": {
   "display_name": "SageMath 9.4",
   "language": "sage",
   "name": "sagemath"
  },
  "language_info": {
   "codemirror_mode": {
    "name": "ipython",
    "version": 3
   },
   "file_extension": ".py",
   "mimetype": "text/x-python",
   "name": "python",
   "nbconvert_exporter": "python",
   "pygments_lexer": "ipython3",
   "version": "3.9.5"
  }
 },
 "nbformat": 4,
 "nbformat_minor": 4
}
