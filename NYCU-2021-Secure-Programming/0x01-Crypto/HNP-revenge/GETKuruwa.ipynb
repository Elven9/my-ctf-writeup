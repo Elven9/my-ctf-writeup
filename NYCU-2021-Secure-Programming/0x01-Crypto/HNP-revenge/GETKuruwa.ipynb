{
 "cells": [
  {
   "cell_type": "code",
   "execution_count": 1,
   "metadata": {},
   "outputs": [
    {
     "name": "stdout",
     "output_type": "stream",
     "text": [
      "P = (73195293404555233143599418286952666807902936361334167221131427084026210057893, 96567924702587670527702372327474573748657915719822284633982785278220891821693)\n",
      "(614012889961852338122028542188211707551939135069532324262918810738259925484, 13021728314746343751176131538927505618402224575989910275993375740598999686923)\n"
     ]
    }
   ],
   "source": [
    "from random import randint\n",
    "from Crypto.Util.number import *\n",
    "from hashlib import sha256, md5\n",
    "from ecdsa import SECP256k1\n",
    "from ecdsa.ecdsa import Public_key, Private_key, Signature\n",
    "from math import sqrt, ceil\n",
    "\n",
    "E = SECP256k1\n",
    "G, n = E.generator, E.order\n",
    "\n",
    "d = 105228346465649343550315876720427581326892142235257410156707131772573340314147\n",
    "pubkey = Public_key(G, d*G)\n",
    "prikey = Private_key(pubkey, d)\n",
    "print(f'P = ({pubkey.point.x()}, {pubkey.point.y()})')\n",
    "\n",
    "h = sha256(\"Kuruwa\".encode()).digest()\n",
    "k = int(md5(b'secret').hexdigest() + md5(long_to_bytes(prikey.secret_multiplier) + h).hexdigest(), 16)\n",
    "sig = prikey.sign(bytes_to_long(h), k)\n",
    "print(f'({sig.r}, {sig.s})')"
   ]
  },
  {
   "cell_type": "code",
   "execution_count": null,
   "metadata": {},
   "outputs": [],
   "source": []
  },
  {
   "cell_type": "code",
   "execution_count": null,
   "metadata": {},
   "outputs": [],
   "source": []
  }
 ],
 "metadata": {
  "kernelspec": {
   "display_name": "SageMath 9.4",
   "language": "sage",
   "name": "sagemath"
  },
  "language_info": {
   "codemirror_mode": {
    "name": "ipython",
    "version": 3
   },
   "file_extension": ".py",
   "mimetype": "text/x-python",
   "name": "python",
   "nbconvert_exporter": "python",
   "pygments_lexer": "ipython3",
   "version": "3.9.5"
  }
 },
 "nbformat": 4,
 "nbformat_minor": 4
}
