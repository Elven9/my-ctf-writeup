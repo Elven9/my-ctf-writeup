{
 "cells": [
  {
   "cell_type": "code",
   "execution_count": 1,
   "metadata": {},
   "outputs": [],
   "source": [
    "from math import sin"
   ]
  },
  {
   "cell_type": "code",
   "execution_count": 2,
   "metadata": {},
   "outputs": [],
   "source": [
    "def MyHash(s):\n",
    "    A = 0x464c4147\n",
    "    B = 0x7b754669\n",
    "    C = 0x6e645468\n",
    "    D = 0x65456173\n",
    "    E = 0x74657245\n",
    "    F = 0x6767217D\n",
    "    def G(X,Y,Z):\n",
    "        return (X ^ (~Z | ~Y) ^ Z) & 0xFFFFFFFF\n",
    "    def H(X,Y):\n",
    "        return (X << Y | X >> (32 - Y)) & 0xFFFFFFFF\n",
    "    X = [int((0xFFFFFFFE) * sin(i)) & 0xFFFFFFFF for i in range(256)]\n",
    "    s_size = len(s)\n",
    "    s += bytes([0x80])\n",
    "    if len(s) % 128 > 120:\n",
    "        while len(s) % 128 != 0: s += bytes(1)\n",
    "    while len(s) % 128 < 120: s += bytes(1)\n",
    "    # May pad to 120 bytes or 128 + 120 bytes\n",
    "    print(b\"After Padding: \" + s)\n",
    "    print(\"Length: \" + str(len(s)), end=\"\\n\\n\")\n",
    "    # Add 8 Byte Message Length (in Bits)\n",
    "    s += bytes.fromhex(hex(s_size * 8)[2:].rjust(16, '0'))\n",
    "    print(b\"Add Length in Bits: \" + bytes.fromhex(hex(s_size * 8)[2:].rjust(16, '0')))\n",
    "    print(\"Final Length: \" + str(len(s)))\n",
    "    print(b\"Final Str: \" + s)\n",
    "    # Final Str => 128 Bytes * k\n",
    "    for i, b in enumerate(s):\n",
    "        # 32 Bytes a Block\n",
    "        k, l = int(b), i & 0x1f\n",
    "        A = (B + H(A + G(B,C,D) + X[k], l)) & 0xFFFFFFFF\n",
    "        B = (C + H(B + G(C,D,E) + X[k], l)) & 0xFFFFFFFF\n",
    "        C = (D + H(C + G(D,E,F) + X[k], l)) & 0xFFFFFFFF\n",
    "        D = (E + H(D + G(E,F,A) + X[k], l)) & 0xFFFFFFFF\n",
    "        E = (F + H(E + G(F,A,B) + X[k], l)) & 0xFFFFFFFF\n",
    "        F = (A + H(F + G(A,B,C) + X[k], l)) & 0xFFFFFFFF\n",
    "    return ''.join(map(lambda x : hex(x)[2:].rjust(8, '0'), [A, F, C, B, D, E]))"
   ]
  },
  {
   "cell_type": "code",
   "execution_count": 3,
   "metadata": {},
   "outputs": [
    {
     "name": "stdout",
     "output_type": "stream",
     "text": [
      "35\n",
      "b'After Padding: HelloLEA&&LEA&&3f4cb81e003da15b029d\\x80\\x00\\x00\\x00\\x00\\x00\\x00\\x00\\x00\\x00\\x00\\x00\\x00\\x00\\x00\\x00\\x00\\x00\\x00\\x00\\x00\\x00\\x00\\x00\\x00\\x00\\x00\\x00\\x00\\x00\\x00\\x00\\x00\\x00\\x00\\x00\\x00\\x00\\x00\\x00\\x00\\x00\\x00\\x00\\x00\\x00\\x00\\x00\\x00\\x00\\x00\\x00\\x00\\x00\\x00\\x00\\x00\\x00\\x00\\x00\\x00\\x00\\x00\\x00\\x00\\x00\\x00\\x00\\x00\\x00\\x00\\x00\\x00\\x00\\x00\\x00\\x00\\x00\\x00\\x00\\x00\\x00\\x00\\x00\\x00'\n",
      "Length: 120\n",
      "\n",
      "b'Add Length in Bits: \\x00\\x00\\x00\\x00\\x00\\x00\\x01\\x18'\n",
      "Final Length: 128\n",
      "b'Final Str: HelloLEA&&LEA&&3f4cb81e003da15b029d\\x80\\x00\\x00\\x00\\x00\\x00\\x00\\x00\\x00\\x00\\x00\\x00\\x00\\x00\\x00\\x00\\x00\\x00\\x00\\x00\\x00\\x00\\x00\\x00\\x00\\x00\\x00\\x00\\x00\\x00\\x00\\x00\\x00\\x00\\x00\\x00\\x00\\x00\\x00\\x00\\x00\\x00\\x00\\x00\\x00\\x00\\x00\\x00\\x00\\x00\\x00\\x00\\x00\\x00\\x00\\x00\\x00\\x00\\x00\\x00\\x00\\x00\\x00\\x00\\x00\\x00\\x00\\x00\\x00\\x00\\x00\\x00\\x00\\x00\\x00\\x00\\x00\\x00\\x00\\x00\\x00\\x00\\x00\\x00\\x00\\x00\\x00\\x00\\x00\\x00\\x00\\x01\\x18'\n"
     ]
    },
    {
     "data": {
      "text/plain": [
       "'893b9d2a40e1aba15f3a43291825a23d5cab8b37e762ec35'"
      ]
     },
     "execution_count": 3,
     "metadata": {},
     "output_type": "execute_result"
    }
   ],
   "source": [
    "user = \"HelloLEA\"\n",
    "password = \"LEA\"\n",
    "# Random Can't Guess\n",
    "session_id = \"3f4cb81e003da15b029d\"\n",
    "\n",
    "target = \"&&\".join([user, password, session_id]).encode()\n",
    "print(len(target))\n",
    "MyHash(target)"
   ]
  },
  {
   "cell_type": "code",
   "execution_count": 4,
   "metadata": {},
   "outputs": [
    {
     "data": {
      "text/plain": [
       "'0x118'"
      ]
     },
     "execution_count": 4,
     "metadata": {},
     "output_type": "execute_result"
    }
   ],
   "source": [
    "hex(35 * 8)"
   ]
  },
  {
   "cell_type": "code",
   "execution_count": 5,
   "metadata": {},
   "outputs": [
    {
     "name": "stdout",
     "output_type": "stream",
     "text": [
      "A: b18b653e\n",
      "F: b810996d\n",
      "C: e33b0847\n",
      "B: 41dbdd9e\n",
      "D: 11af3b48\n",
      "E: 11c5253e\n",
      "[2978702654, 3088095597, 3812296775, 1104928158, 296696648, 298132798]\n"
     ]
    }
   ],
   "source": [
    "# Start to Crack the LEA!!\n",
    "user = \"Admin\"\n",
    "# No Password\n",
    "session = \"aa27d727b998940c7879\"\n",
    "mac = \"b18b653eb810996de33b084741dbdd9e11af3b4811c5253e\"\n",
    "\n",
    "# Extract Last Vector\n",
    "\n",
    "_seq = [\"A\", \"F\", \"C\", \"B\", \"D\", \"E\"]\n",
    "vector = []\n",
    "\n",
    "for i in range(6):\n",
    "    print(_seq[i] + \": \" + mac[i*8: (i+1)*8])\n",
    "    vector.append(int(mac[i*8: (i+1)*8], 16))\n",
    "\n",
    "print(vector)\n",
    "# username&&password&&session&&old-padding && cmd"
   ]
  },
  {
   "cell_type": "code",
   "execution_count": 6,
   "metadata": {},
   "outputs": [],
   "source": [
    "def MyCrack(vector, k):\n",
    "    # Size = 128 * k + 6 (&&flag)\n",
    "    s = \"&&flag\".encode()\n",
    "    A = vector[0]\n",
    "    B = vector[3]\n",
    "    C = vector[2]\n",
    "    D = vector[4]\n",
    "    E = vector[5]\n",
    "    F = vector[1]\n",
    "    def G(X,Y,Z):\n",
    "        return (X ^ (~Z | ~Y) ^ Z) & 0xFFFFFFFF\n",
    "    def H(X,Y):\n",
    "        return (X << Y | X >> (32 - Y)) & 0xFFFFFFFF\n",
    "    X = [int((0xFFFFFFFE) * sin(i)) & 0xFFFFFFFF for i in range(256)]\n",
    "    s_size = 128 * k + len(s)\n",
    "    s += bytes([0x80])\n",
    "    if len(s) % 128 > 120:\n",
    "        while len(s) % 128 != 0: s += bytes(1)\n",
    "    while len(s) % 128 < 120: s += bytes(1)\n",
    "    # May pad to 120 bytes or 128 + 120 bytes\n",
    "    print(b\"After Padding: \" + s)\n",
    "    print(\"Length: \" + str(len(s)), end=\"\\n\\n\")\n",
    "    # Add 8 Byte Message Length (in Bits)\n",
    "    s += bytes.fromhex(hex(s_size * 8)[2:].rjust(16, '0'))\n",
    "    print(b\"Add Length in Bits: \" + bytes.fromhex(hex(s_size * 8)[2:].rjust(16, '0')))\n",
    "    print(\"Final Length: \" + str(len(s)))\n",
    "    print(b\"Final Str: \" + s)\n",
    "    # Final Str => 128 Bytes * k\n",
    "    for i, b in enumerate(s):\n",
    "        # 32 Bytes a Block\n",
    "        k, l = int(b), i & 0x1f\n",
    "        A = (B + H(A + G(B,C,D) + X[k], l)) & 0xFFFFFFFF\n",
    "        B = (C + H(B + G(C,D,E) + X[k], l)) & 0xFFFFFFFF\n",
    "        C = (D + H(C + G(D,E,F) + X[k], l)) & 0xFFFFFFFF\n",
    "        D = (E + H(D + G(E,F,A) + X[k], l)) & 0xFFFFFFFF\n",
    "        E = (F + H(E + G(F,A,B) + X[k], l)) & 0xFFFFFFFF\n",
    "        F = (A + H(F + G(A,B,C) + X[k], l)) & 0xFFFFFFFF\n",
    "    return ''.join(map(lambda x : hex(x)[2:].rjust(8, '0'), [A, F, C, B, D, E]))\n",
    "\n",
    "def generate_initial_padding(mes_size):\n",
    "    print(mes_size)\n",
    "    s = b\"\"\n",
    "    s += bytes([0x80])\n",
    "    if (len(s)+mes_size) % 128 > 120:\n",
    "        while (len(s)+mes_size) % 128 != 0: s += bytes(1)\n",
    "    while (len(s)+mes_size) % 128 < 120: s += bytes(1)\n",
    "    # May pad to 120 bytes or 128 + 120 bytes\n",
    "    # Add 8 Byte Message Length (in Bits)\n",
    "    s += bytes.fromhex(hex(mes_size * 8)[2:].rjust(16, '0'))\n",
    "    print(b\"Add Length in Bits: \" + bytes.fromhex(hex(mes_size * 8)[2:].rjust(16, '0')))\n",
    "    print(\"Final Length: \" + str(len(s)))\n",
    "#     print(b\"Final Str: \" + s)\n",
    "    return s.hex()"
   ]
  },
  {
   "cell_type": "code",
   "execution_count": 10,
   "metadata": {},
   "outputs": [
    {
     "name": "stdout",
     "output_type": "stream",
     "text": [
      "A: 2aa0ad1c\n",
      "F: e4a04208\n",
      "C: 1cf4bd73\n",
      "B: 50d8f908\n",
      "D: 2281cf98\n",
      "E: f4463652\n",
      "[715173148, 3835707912, 485801331, 1356396808, 578932632, 4098242130]\n",
      "36\n",
      "b'Add Length in Bits: \\x00\\x00\\x00\\x00\\x00\\x00\\x01 '\n",
      "Final Length: 92\n",
      "8000000000000000000000000000000000000000000000000000000000000000000000000000000000000000000000000000000000000000000000000000000000000000000000000000000000000000000000000000000000000120\n",
      "\n",
      "\n",
      "\n",
      "b'After Padding: &&flag\\x80\\x00\\x00\\x00\\x00\\x00\\x00\\x00\\x00\\x00\\x00\\x00\\x00\\x00\\x00\\x00\\x00\\x00\\x00\\x00\\x00\\x00\\x00\\x00\\x00\\x00\\x00\\x00\\x00\\x00\\x00\\x00\\x00\\x00\\x00\\x00\\x00\\x00\\x00\\x00\\x00\\x00\\x00\\x00\\x00\\x00\\x00\\x00\\x00\\x00\\x00\\x00\\x00\\x00\\x00\\x00\\x00\\x00\\x00\\x00\\x00\\x00\\x00\\x00\\x00\\x00\\x00\\x00\\x00\\x00\\x00\\x00\\x00\\x00\\x00\\x00\\x00\\x00\\x00\\x00\\x00\\x00\\x00\\x00\\x00\\x00\\x00\\x00\\x00\\x00\\x00\\x00\\x00\\x00\\x00\\x00\\x00\\x00\\x00\\x00\\x00\\x00\\x00\\x00\\x00\\x00\\x00\\x00\\x00\\x00\\x00\\x00\\x00\\x00'\n",
      "Length: 120\n",
      "\n",
      "b'Add Length in Bits: \\x00\\x00\\x00\\x00\\x00\\x00\\x040'\n",
      "Final Length: 128\n",
      "b'Final Str: &&flag\\x80\\x00\\x00\\x00\\x00\\x00\\x00\\x00\\x00\\x00\\x00\\x00\\x00\\x00\\x00\\x00\\x00\\x00\\x00\\x00\\x00\\x00\\x00\\x00\\x00\\x00\\x00\\x00\\x00\\x00\\x00\\x00\\x00\\x00\\x00\\x00\\x00\\x00\\x00\\x00\\x00\\x00\\x00\\x00\\x00\\x00\\x00\\x00\\x00\\x00\\x00\\x00\\x00\\x00\\x00\\x00\\x00\\x00\\x00\\x00\\x00\\x00\\x00\\x00\\x00\\x00\\x00\\x00\\x00\\x00\\x00\\x00\\x00\\x00\\x00\\x00\\x00\\x00\\x00\\x00\\x00\\x00\\x00\\x00\\x00\\x00\\x00\\x00\\x00\\x00\\x00\\x00\\x00\\x00\\x00\\x00\\x00\\x00\\x00\\x00\\x00\\x00\\x00\\x00\\x00\\x00\\x00\\x00\\x00\\x00\\x00\\x00\\x00\\x00\\x00\\x00\\x00\\x00\\x00\\x00\\x040'\n",
      "\n",
      "new t mac: 9417022838f14e2d0dd2fb209e95a632ead8bfd4323165f2\n",
      "Final Input: \n",
      "3934313730323238333866313465326430646432666232303965393561363332656164386266643433323331363566322626623132636537396531383136333136393664366480000000000000000000000000000000000000000000000000000000000000000000000000000000000000000000000000000000000000000000000000000000000000000000000000000000000000000000000000000000000001202626666c6167\n"
     ]
    }
   ],
   "source": [
    "# Test\n",
    "tu = \"HelloLEA\"\n",
    "tp = \"pass\"\n",
    "tsession = \"b12ce79e181631696d6d\"\n",
    "tmac = \"2aa0ad1ce4a042081cf4bd7350d8f9082281cf98f4463652\"\n",
    "\n",
    "tv = []\n",
    "\n",
    "for i in range(6):\n",
    "    print(_seq[i] + \": \" + tmac[i*8: (i+1)*8])\n",
    "    tv.append(int(tmac[i*8: (i+1)*8], 16))\n",
    "\n",
    "print(tv)\n",
    "\n",
    "tl = len(\"&&\".join([tu, tp, tsession]))\n",
    "old_padding = generate_initial_padding(tl)\n",
    "print(old_padding, end=\"\\n\\n\\n\\n\")\n",
    "\n",
    "ntmac = MyCrack(tv, 1)\n",
    "\n",
    "print(\"\\nnew t mac: \" + ntmac)\n",
    "\n",
    "print(\"Final Input: \")\n",
    "print((b\"&&\".hex()).join([ntmac.encode().hex(), tsession.encode().hex()+old_padding, b\"flag\".hex()]))"
   ]
  },
  {
   "cell_type": "code",
   "execution_count": 8,
   "metadata": {},
   "outputs": [],
   "source": [
    "server = b\"&&flag\\x80\\x00\\x00\\x00\\x00\\x00\\x00\\x00\\x00\\x00\\x00\\x00\\x00\\x00\\x00\\x00\\x00\\x00\\x00\\x00\\x00\\x00\\x00\\x00\\x00\\x00\\x00\\x00\\x00\\x00\\x00\\x00\\x00\\x00\\x00\\x00\\x00\\x00\\x00\\x00\\x00\\x00\\x00\\x00\\x00\\x00\\x00\\x00\\x00\\x00\\x00\\x00\\x00\\x00\\x00\\x00\\x00\\x00\\x00\\x00\\x00\\x00\\x00\\x00\\x00\\x00\\x00\\x00\\x00\\x00\\x00\\x00\\x00\\x00\\x00\\x00\\x00\\x00\\x00\\x00\\x00\\x00\\x00\\x00\\x00\\x00\\x00\\x00\\x00\\x00\\x00\\x00\\x00\\x00\\x00\\x00\\x00\\x00\\x00\\x00\\x00\\x00\\x00\\x00\\x00\\x00\\x00\\x00\\x00\\x00\\x00\\x00\\x00\\x00\\x00\\x00\\x00\\x00\\x00\\x00\\x040\"\n",
    "my = b\"\"\n",
    "\n"
   ]
  }
 ],
 "metadata": {
  "kernelspec": {
   "display_name": "Python 3 (ipykernel)",
   "language": "python",
   "name": "python3"
  },
  "language_info": {
   "codemirror_mode": {
    "name": "ipython",
    "version": 3
   },
   "file_extension": ".py",
   "mimetype": "text/x-python",
   "name": "python",
   "nbconvert_exporter": "python",
   "pygments_lexer": "ipython3",
   "version": "3.9.7"
  }
 },
 "nbformat": 4,
 "nbformat_minor": 4
}
